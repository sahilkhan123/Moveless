{
 "cells": [
  {
   "cell_type": "markdown",
   "id": "5ed14112",
   "metadata": {},
   "source": [
    "This Notebook is meant as a supplement to Moveless Example, and requires installation of the Chromobius package."
   ]
  },
  {
   "cell_type": "markdown",
   "id": "8e89fdb8",
   "metadata": {},
   "source": [
    "The code is more or less similar to the surface code example, however the notebooks are seperated because it may require a different python environment to run this code"
   ]
  },
  {
   "cell_type": "code",
   "execution_count": null,
   "id": "5e08953e",
   "metadata": {},
   "outputs": [],
   "source": [
    "import chromobius\n",
    "\n",
    "def compute_ler_CC(file_name, compiler_mode, inputCircuit=None, ancilla_str=\"1m\"):\n",
    "    if (compiler_mode == \"Moveless\"):\n",
    "        circuit = stim.Circuit.from_file(\"stim_files_Moveless/color_codes/\" + ancilla_str + \"/\" + file_name)\n",
    "    elif (compiler_mode == \"Baseline\"):\n",
    "        circuit = stim.Circuit.from_file(\"stim_files_Baseline/color_codes/\" + ancilla_str + \"/\" + file_name)\n",
    "    elif (compiler_mode == \"Test\"):\n",
    "        circuit = inputCircuit\n",
    "    else:\n",
    "        print(\"invalid compiler mode\")\n",
    "        assert(0)\n",
    "    #print(\"FILE NAME\", file_name)\n",
    "    #print(\"Circuit\", circuit)\n",
    "    tasks = [\n",
    "    sinter.Task(circuit=circuit)]\n",
    "    #print(\"got to this point here after reading circuit\")\n",
    "    num_shots = 10_000_000\n",
    "    collected_stats: List[sinter.TaskStats] = sinter.collect(\n",
    "        num_workers=6,\n",
    "        tasks=tasks,\n",
    "        decoders=['chromobius'],\n",
    "        max_shots=num_shots,\n",
    "        max_errors=num_shots/100,\n",
    "        custom_decoders=chromobius.sinter_decoders()\n",
    "    )\n",
    "    errors = collected_stats[0].errors\n",
    "    #num_logical_errors = count_logical_errors(circuit, num_shots)\n",
    "    #print(\"there were\", num_logical_errors, \"wrong predictions (logical errors) out of\", num_shots, \"shots\")\n",
    "    return errors/num_shots\n",
    "\n",
    "def make_ler_plot_CC(compiler_mode, name, p_range=[0,1], ancilla_str=\"1m\"):\n",
    "    \n",
    "    \n",
    "    if (compiler_mode == \"Moveless\"):\n",
    "        arr = os.listdir(\"stim_files_Moveless/surface_codes/\" + ancilla_str + \"/\")\n",
    "    elif (compiler_mode == \"Baseline\"):\n",
    "        arr = os.listdir(\"stim_files_Baseline/surface_codes/\"+ ancilla_str + \"/\")\n",
    "    else:\n",
    "        print(\"Unknown circuit generation mode\")\n",
    "        assert(0)\n",
    "    #print(\"arr\", arr)\n",
    "    errors= []\n",
    "    x_axis = []\n",
    "    arr = sorted(arr)\n",
    "    for x in arr:\n",
    "        if (x.split(\"p\")[0] == name): #I think it wont include full path so this should be good\n",
    "            right = x.split(\"p=\")[1]\n",
    "            remainder = right.split(\"d=\")[0]\n",
    "            p = float(remainder)\n",
    "            if (p_range[0] <= p and p <= p_range[1]):\n",
    "                x_axis.append(p)\n",
    "                print(\"Circuit is\", x)\n",
    "                ler = compute_ler_CC(x, compiler_mode=compiler_mode, ancilla_str=ancilla_str)\n",
    "                print(\"Finished a computation for\", p)\n",
    "                print(\"Got ler\", ler)\n",
    "                errors.append(ler)\n",
    "    print(\"x axis\", x_axis)        \n",
    "    return errors, x_axis\n",
    "\n",
    "moveless_CC, x = make_ler_plot_CC(\"Moveless\", \"49-1-7\", [1e-4, 1e-3], \"1m\")  #1M is chosen for best Moveless performance on linear architectures.\n",
    "baseline_CC, x_baseline = make_ler_plot_CC(\"Baseline\", \"49-1-7\", [1e-4, 1e-3], \"maxm\") #Baseline full ancillary count"
   ]
  },
  {
   "cell_type": "code",
   "execution_count": null,
   "id": "84654dc1",
   "metadata": {},
   "outputs": [],
   "source": [
    "import matplotlib.pyplot as plt\n",
    "import numpy as np\n",
    "from matplotlib import cm\n",
    "\n",
    "def plot_LERS(x, moveless, baseline):\n",
    "    # Get colors from viridis colormap\n",
    "    colors = plt.get_cmap('viridis')(np.linspace(0, 1, 5))\n",
    "    color_baseline = colors[0]\n",
    "    color_moveless = colors[3]\n",
    "\n",
    "    plt.figure(figsize=(8, 6))\n",
    "    plt.plot(x, moveless, label='Moveless', marker='^', linestyle='--', linewidth=1.5, color=color_moveless)\n",
    "    plt.plot(x, baseline, label='Baseline', marker='*', linestyle='--', linewidth=1.5, color=color_baseline)\n",
    "\n",
    "    plt.xlabel('Physical Error Rate')\n",
    "    plt.ylabel('Logical Error Rate')\n",
    "    plt.grid(True, which='both', ls='--', alpha=0.5)\n",
    "    plt.xscale('log')\n",
    "    plt.yscale('log')\n",
    "    plt.title(\"D7 Surface Code\")\n",
    "    plt.legend()\n",
    "    plt.tight_layout()\n",
    "    plt.show()\n",
    "\n",
    "\n",
    "#assert(x == x_baseline)\n",
    "plot_LERS(x, moveless_CC, baseline_CC)"
   ]
  }
 ],
 "metadata": {
  "kernelspec": {
   "display_name": "base",
   "language": "python",
   "name": "python3"
  },
  "language_info": {
   "codemirror_mode": {
    "name": "ipython",
    "version": 3
   },
   "file_extension": ".py",
   "mimetype": "text/x-python",
   "name": "python",
   "nbconvert_exporter": "python",
   "pygments_lexer": "ipython3",
   "version": "3.11.5"
  }
 },
 "nbformat": 4,
 "nbformat_minor": 5
}
